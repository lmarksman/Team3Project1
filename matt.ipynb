{
 "cells": [
  {
   "cell_type": "code",
   "execution_count": 1,
   "metadata": {},
   "outputs": [],
   "source": [
    "# Dependencies and Setup\n",
    "import matplotlib.pyplot as plt\n",
    "import pandas as pd\n",
    "import numpy as np"
   ]
  },
  {
   "cell_type": "code",
   "execution_count": 10,
   "metadata": {},
   "outputs": [
    {
     "name": "stderr",
     "output_type": "stream",
     "text": [
      "C:\\Users\\matt\\.conda\\envs\\PythonData\\lib\\site-packages\\IPython\\core\\interactiveshell.py:3166: DtypeWarning: Columns (5,6,8,10,14,16,19) have mixed types.Specify dtype option on import or set low_memory=False.\n",
      "  interactivity=interactivity, compiler=compiler, result=result)\n"
     ]
    }
   ],
   "source": [
    "cases_df = pd.read_csv('Resources/US_New_Covid_Cases.csv')\n",
    "total_population_df = pd.read_csv('Resources/Population.csv')\n",
    "vaccinations_df = pd.read_csv('Resources/Covid19 _Vacinations_by_State.csv')\n",
    "\n",
    "\n",
    "# cases.head(2)\n",
    "\n"
   ]
  },
  {
   "cell_type": "code",
   "execution_count": 12,
   "metadata": {},
   "outputs": [
    {
     "name": "stderr",
     "output_type": "stream",
     "text": [
      "C:\\Users\\matt\\.conda\\envs\\PythonData\\lib\\site-packages\\ipykernel_launcher.py:2: SettingWithCopyWarning: \n",
      "A value is trying to be set on a copy of a slice from a DataFrame\n",
      "\n",
      "See the caveats in the documentation: https://pandas.pydata.org/pandas-docs/stable/user_guide/indexing.html#returning-a-view-versus-a-copy\n",
      "  \n"
     ]
    },
    {
     "data": {
      "text/plain": [
       "2040"
      ]
     },
     "execution_count": 12,
     "metadata": {},
     "output_type": "execute_result"
    }
   ],
   "source": [
    "cases_summary_df = cases_df[['State', 'Week no.', 'Total new Covid Cases']]\n",
    "cases_summary_df.dropna(how='any', inplace=True)\n",
    "len(cases_summary_df)"
   ]
  },
  {
   "cell_type": "code",
   "execution_count": 11,
   "metadata": {
    "scrolled": true
   },
   "outputs": [
    {
     "data": {
      "text/plain": [
       "State              object\n",
       "2019 Population     int64\n",
       "Code               object\n",
       "dtype: object"
      ]
     },
     "execution_count": 11,
     "metadata": {},
     "output_type": "execute_result"
    }
   ],
   "source": [
    "# total_population_df.iloc[:,:].str.replace(',', '').astype(float)\n",
    "# total_population_df.head(2)\n",
    "# total_population_df.astype({'2019 Population':'float'})\n",
    "total_population_df.dtypes"
   ]
  },
  {
   "cell_type": "code",
   "execution_count": 13,
   "metadata": {},
   "outputs": [
    {
     "data": {
      "text/plain": [
       "1672"
      ]
     },
     "execution_count": 13,
     "metadata": {},
     "output_type": "execute_result"
    }
   ],
   "source": [
    "# vaccinations.columns\n",
    "vaccinations_summary_df = vaccinations_df[['Record Date', 'Week no.', 'State', 'State.1', 'Week no..1', 'Total vac per week']]\n",
    "# vaccinations_summary_df.head()\n",
    "\n",
    "vaccinations_per_week_df = vaccinations_summary_df[['State.1', 'Week no..1', 'Total vac per week']]\n",
    "vaccinations_per_week_df = vaccinations_per_week_df.rename(columns={'State.1':'State', 'Week no..1':'Week no.'})\n",
    "vaccinations_per_week_df.dropna(how='any', inplace=True)\n",
    "len(vaccinations_per_week_df)"
   ]
  },
  {
   "cell_type": "code",
   "execution_count": 14,
   "metadata": {
    "scrolled": true
   },
   "outputs": [
    {
     "data": {
      "text/html": [
       "<div>\n",
       "<style scoped>\n",
       "    .dataframe tbody tr th:only-of-type {\n",
       "        vertical-align: middle;\n",
       "    }\n",
       "\n",
       "    .dataframe tbody tr th {\n",
       "        vertical-align: top;\n",
       "    }\n",
       "\n",
       "    .dataframe thead th {\n",
       "        text-align: right;\n",
       "    }\n",
       "</style>\n",
       "<table border=\"1\" class=\"dataframe\">\n",
       "  <thead>\n",
       "    <tr style=\"text-align: right;\">\n",
       "      <th></th>\n",
       "      <th>State</th>\n",
       "      <th>Week no.</th>\n",
       "      <th>Total new Covid Cases</th>\n",
       "      <th>Total vac per week</th>\n",
       "    </tr>\n",
       "  </thead>\n",
       "  <tbody>\n",
       "    <tr>\n",
       "      <th>0</th>\n",
       "      <td>AK</td>\n",
       "      <td>29.0</td>\n",
       "      <td>133.0</td>\n",
       "      <td>662.0</td>\n",
       "    </tr>\n",
       "    <tr>\n",
       "      <th>1</th>\n",
       "      <td>AK</td>\n",
       "      <td>28.0</td>\n",
       "      <td>588.0</td>\n",
       "      <td>3627.0</td>\n",
       "    </tr>\n",
       "    <tr>\n",
       "      <th>2</th>\n",
       "      <td>AK</td>\n",
       "      <td>27.0</td>\n",
       "      <td>304.0</td>\n",
       "      <td>5021.0</td>\n",
       "    </tr>\n",
       "    <tr>\n",
       "      <th>3</th>\n",
       "      <td>AK</td>\n",
       "      <td>26.0</td>\n",
       "      <td>230.0</td>\n",
       "      <td>8414.0</td>\n",
       "    </tr>\n",
       "    <tr>\n",
       "      <th>4</th>\n",
       "      <td>AK</td>\n",
       "      <td>25.0</td>\n",
       "      <td>239.0</td>\n",
       "      <td>6233.0</td>\n",
       "    </tr>\n",
       "    <tr>\n",
       "      <th>...</th>\n",
       "      <td>...</td>\n",
       "      <td>...</td>\n",
       "      <td>...</td>\n",
       "      <td>...</td>\n",
       "    </tr>\n",
       "    <tr>\n",
       "      <th>1667</th>\n",
       "      <td>WY</td>\n",
       "      <td>0.0</td>\n",
       "      <td>1745.0</td>\n",
       "      <td>33.0</td>\n",
       "    </tr>\n",
       "    <tr>\n",
       "      <th>1668</th>\n",
       "      <td>WY</td>\n",
       "      <td>-1.0</td>\n",
       "      <td>2071.0</td>\n",
       "      <td>3.0</td>\n",
       "    </tr>\n",
       "    <tr>\n",
       "      <th>1669</th>\n",
       "      <td>WY</td>\n",
       "      <td>-1.0</td>\n",
       "      <td>2071.0</td>\n",
       "      <td>6.0</td>\n",
       "    </tr>\n",
       "    <tr>\n",
       "      <th>1670</th>\n",
       "      <td>WY</td>\n",
       "      <td>-2.0</td>\n",
       "      <td>2370.0</td>\n",
       "      <td>5.0</td>\n",
       "    </tr>\n",
       "    <tr>\n",
       "      <th>1671</th>\n",
       "      <td>WY</td>\n",
       "      <td>-2.0</td>\n",
       "      <td>2370.0</td>\n",
       "      <td>2.0</td>\n",
       "    </tr>\n",
       "  </tbody>\n",
       "</table>\n",
       "<p>1672 rows × 4 columns</p>\n",
       "</div>"
      ],
      "text/plain": [
       "     State  Week no.  Total new Covid Cases  Total vac per week\n",
       "0       AK      29.0                  133.0               662.0\n",
       "1       AK      28.0                  588.0              3627.0\n",
       "2       AK      27.0                  304.0              5021.0\n",
       "3       AK      26.0                  230.0              8414.0\n",
       "4       AK      25.0                  239.0              6233.0\n",
       "...    ...       ...                    ...                 ...\n",
       "1667    WY       0.0                 1745.0                33.0\n",
       "1668    WY      -1.0                 2071.0                 3.0\n",
       "1669    WY      -1.0                 2071.0                 6.0\n",
       "1670    WY      -2.0                 2370.0                 5.0\n",
       "1671    WY      -2.0                 2370.0                 2.0\n",
       "\n",
       "[1672 rows x 4 columns]"
      ]
     },
     "execution_count": 14,
     "metadata": {},
     "output_type": "execute_result"
    }
   ],
   "source": [
    "merge_df = pd.merge(cases_summary_df, vaccinations_per_week_df, how='inner', left_on=['State', 'Week no.'], right_on=['State', 'Week no.'] )\n",
    "merge_df.head()\n",
    "\n",
    "merge_value_reset_df = merge_df.replace({'Week no.':{53.0: 0, 52.0: -1.0, 51.0:-2.0, 50.0:-3.0, 49.0:-4.0}})\n",
    "merge_value_reset_df"
   ]
  },
  {
   "cell_type": "code",
   "execution_count": 15,
   "metadata": {},
   "outputs": [
    {
     "data": {
      "text/html": [
       "<div>\n",
       "<style scoped>\n",
       "    .dataframe tbody tr th:only-of-type {\n",
       "        vertical-align: middle;\n",
       "    }\n",
       "\n",
       "    .dataframe tbody tr th {\n",
       "        vertical-align: top;\n",
       "    }\n",
       "\n",
       "    .dataframe thead th {\n",
       "        text-align: right;\n",
       "    }\n",
       "</style>\n",
       "<table border=\"1\" class=\"dataframe\">\n",
       "  <thead>\n",
       "    <tr style=\"text-align: right;\">\n",
       "      <th></th>\n",
       "      <th>State</th>\n",
       "      <th>Week no.</th>\n",
       "      <th>Total new Covid Cases</th>\n",
       "      <th>Total vac per week</th>\n",
       "    </tr>\n",
       "  </thead>\n",
       "  <tbody>\n",
       "    <tr>\n",
       "      <th>0</th>\n",
       "      <td>AK</td>\n",
       "      <td>32.0</td>\n",
       "      <td>133.0</td>\n",
       "      <td>662.0</td>\n",
       "    </tr>\n",
       "    <tr>\n",
       "      <th>1</th>\n",
       "      <td>AK</td>\n",
       "      <td>31.0</td>\n",
       "      <td>588.0</td>\n",
       "      <td>3627.0</td>\n",
       "    </tr>\n",
       "    <tr>\n",
       "      <th>2</th>\n",
       "      <td>AK</td>\n",
       "      <td>30.0</td>\n",
       "      <td>304.0</td>\n",
       "      <td>5021.0</td>\n",
       "    </tr>\n",
       "    <tr>\n",
       "      <th>3</th>\n",
       "      <td>AK</td>\n",
       "      <td>29.0</td>\n",
       "      <td>230.0</td>\n",
       "      <td>8414.0</td>\n",
       "    </tr>\n",
       "    <tr>\n",
       "      <th>4</th>\n",
       "      <td>AK</td>\n",
       "      <td>28.0</td>\n",
       "      <td>239.0</td>\n",
       "      <td>6233.0</td>\n",
       "    </tr>\n",
       "    <tr>\n",
       "      <th>...</th>\n",
       "      <td>...</td>\n",
       "      <td>...</td>\n",
       "      <td>...</td>\n",
       "      <td>...</td>\n",
       "    </tr>\n",
       "    <tr>\n",
       "      <th>1667</th>\n",
       "      <td>WY</td>\n",
       "      <td>3.0</td>\n",
       "      <td>1745.0</td>\n",
       "      <td>33.0</td>\n",
       "    </tr>\n",
       "    <tr>\n",
       "      <th>1668</th>\n",
       "      <td>WY</td>\n",
       "      <td>2.0</td>\n",
       "      <td>2071.0</td>\n",
       "      <td>3.0</td>\n",
       "    </tr>\n",
       "    <tr>\n",
       "      <th>1669</th>\n",
       "      <td>WY</td>\n",
       "      <td>2.0</td>\n",
       "      <td>2071.0</td>\n",
       "      <td>6.0</td>\n",
       "    </tr>\n",
       "    <tr>\n",
       "      <th>1670</th>\n",
       "      <td>WY</td>\n",
       "      <td>1.0</td>\n",
       "      <td>2370.0</td>\n",
       "      <td>5.0</td>\n",
       "    </tr>\n",
       "    <tr>\n",
       "      <th>1671</th>\n",
       "      <td>WY</td>\n",
       "      <td>1.0</td>\n",
       "      <td>2370.0</td>\n",
       "      <td>2.0</td>\n",
       "    </tr>\n",
       "  </tbody>\n",
       "</table>\n",
       "<p>1672 rows × 4 columns</p>\n",
       "</div>"
      ],
      "text/plain": [
       "     State  Week no.  Total new Covid Cases  Total vac per week\n",
       "0       AK      32.0                  133.0               662.0\n",
       "1       AK      31.0                  588.0              3627.0\n",
       "2       AK      30.0                  304.0              5021.0\n",
       "3       AK      29.0                  230.0              8414.0\n",
       "4       AK      28.0                  239.0              6233.0\n",
       "...    ...       ...                    ...                 ...\n",
       "1667    WY       3.0                 1745.0                33.0\n",
       "1668    WY       2.0                 2071.0                 3.0\n",
       "1669    WY       2.0                 2071.0                 6.0\n",
       "1670    WY       1.0                 2370.0                 5.0\n",
       "1671    WY       1.0                 2370.0                 2.0\n",
       "\n",
       "[1672 rows x 4 columns]"
      ]
     },
     "execution_count": 15,
     "metadata": {},
     "output_type": "execute_result"
    }
   ],
   "source": [
    "for i, row in merge_value_reset_df.iterrows():\n",
    "    old_val = merge_value_reset_df.at[i, 'Week no.']\n",
    "    merge_value_reset_df.at[i, \"Week no.\"] = old_val + 3\n",
    "\n",
    "merge_value_reset_df"
   ]
  },
  {
   "cell_type": "code",
   "execution_count": 16,
   "metadata": {},
   "outputs": [
    {
     "name": "stdout",
     "output_type": "stream",
     "text": [
      "Which State? CA\n"
     ]
    },
    {
     "data": {
      "text/html": [
       "<div>\n",
       "<style scoped>\n",
       "    .dataframe tbody tr th:only-of-type {\n",
       "        vertical-align: middle;\n",
       "    }\n",
       "\n",
       "    .dataframe tbody tr th {\n",
       "        vertical-align: top;\n",
       "    }\n",
       "\n",
       "    .dataframe thead th {\n",
       "        text-align: right;\n",
       "    }\n",
       "</style>\n",
       "<table border=\"1\" class=\"dataframe\">\n",
       "  <thead>\n",
       "    <tr style=\"text-align: right;\">\n",
       "      <th></th>\n",
       "      <th>State</th>\n",
       "      <th>Week no.</th>\n",
       "      <th>Total new Covid Cases</th>\n",
       "      <th>Total vac per week</th>\n",
       "    </tr>\n",
       "  </thead>\n",
       "  <tbody>\n",
       "    <tr>\n",
       "      <th>159</th>\n",
       "      <td>CA</td>\n",
       "      <td>1.0</td>\n",
       "      <td>271680.0</td>\n",
       "      <td>110.0</td>\n",
       "    </tr>\n",
       "    <tr>\n",
       "      <th>158</th>\n",
       "      <td>CA</td>\n",
       "      <td>2.0</td>\n",
       "      <td>279419.0</td>\n",
       "      <td>419.0</td>\n",
       "    </tr>\n",
       "    <tr>\n",
       "      <th>157</th>\n",
       "      <td>CA</td>\n",
       "      <td>3.0</td>\n",
       "      <td>261470.0</td>\n",
       "      <td>367.0</td>\n",
       "    </tr>\n",
       "    <tr>\n",
       "      <th>156</th>\n",
       "      <td>CA</td>\n",
       "      <td>4.0</td>\n",
       "      <td>287110.0</td>\n",
       "      <td>78445.0</td>\n",
       "    </tr>\n",
       "    <tr>\n",
       "      <th>155</th>\n",
       "      <td>CA</td>\n",
       "      <td>5.0</td>\n",
       "      <td>264706.0</td>\n",
       "      <td>183248.0</td>\n",
       "    </tr>\n",
       "    <tr>\n",
       "      <th>154</th>\n",
       "      <td>CA</td>\n",
       "      <td>6.0</td>\n",
       "      <td>179199.0</td>\n",
       "      <td>123202.0</td>\n",
       "    </tr>\n",
       "    <tr>\n",
       "      <th>153</th>\n",
       "      <td>CA</td>\n",
       "      <td>7.0</td>\n",
       "      <td>128861.0</td>\n",
       "      <td>208842.0</td>\n",
       "    </tr>\n",
       "    <tr>\n",
       "      <th>152</th>\n",
       "      <td>CA</td>\n",
       "      <td>8.0</td>\n",
       "      <td>88701.0</td>\n",
       "      <td>264374.0</td>\n",
       "    </tr>\n",
       "    <tr>\n",
       "      <th>151</th>\n",
       "      <td>CA</td>\n",
       "      <td>9.0</td>\n",
       "      <td>59763.0</td>\n",
       "      <td>504276.0</td>\n",
       "    </tr>\n",
       "    <tr>\n",
       "      <th>150</th>\n",
       "      <td>CA</td>\n",
       "      <td>10.0</td>\n",
       "      <td>38884.0</td>\n",
       "      <td>654633.0</td>\n",
       "    </tr>\n",
       "    <tr>\n",
       "      <th>149</th>\n",
       "      <td>CA</td>\n",
       "      <td>11.0</td>\n",
       "      <td>28131.0</td>\n",
       "      <td>654690.0</td>\n",
       "    </tr>\n",
       "    <tr>\n",
       "      <th>148</th>\n",
       "      <td>CA</td>\n",
       "      <td>12.0</td>\n",
       "      <td>22230.0</td>\n",
       "      <td>725766.0</td>\n",
       "    </tr>\n",
       "    <tr>\n",
       "      <th>147</th>\n",
       "      <td>CA</td>\n",
       "      <td>13.0</td>\n",
       "      <td>19162.0</td>\n",
       "      <td>482035.0</td>\n",
       "    </tr>\n",
       "    <tr>\n",
       "      <th>146</th>\n",
       "      <td>CA</td>\n",
       "      <td>14.0</td>\n",
       "      <td>16608.0</td>\n",
       "      <td>1194981.0</td>\n",
       "    </tr>\n",
       "    <tr>\n",
       "      <th>145</th>\n",
       "      <td>CA</td>\n",
       "      <td>15.0</td>\n",
       "      <td>15332.0</td>\n",
       "      <td>1023583.0</td>\n",
       "    </tr>\n",
       "    <tr>\n",
       "      <th>144</th>\n",
       "      <td>CA</td>\n",
       "      <td>16.0</td>\n",
       "      <td>15470.0</td>\n",
       "      <td>908414.0</td>\n",
       "    </tr>\n",
       "    <tr>\n",
       "      <th>143</th>\n",
       "      <td>CA</td>\n",
       "      <td>17.0</td>\n",
       "      <td>15475.0</td>\n",
       "      <td>1600595.0</td>\n",
       "    </tr>\n",
       "    <tr>\n",
       "      <th>142</th>\n",
       "      <td>CA</td>\n",
       "      <td>18.0</td>\n",
       "      <td>15495.0</td>\n",
       "      <td>1469666.0</td>\n",
       "    </tr>\n",
       "    <tr>\n",
       "      <th>141</th>\n",
       "      <td>CA</td>\n",
       "      <td>19.0</td>\n",
       "      <td>13909.0</td>\n",
       "      <td>1302315.0</td>\n",
       "    </tr>\n",
       "    <tr>\n",
       "      <th>140</th>\n",
       "      <td>CA</td>\n",
       "      <td>20.0</td>\n",
       "      <td>12078.0</td>\n",
       "      <td>1298827.0</td>\n",
       "    </tr>\n",
       "    <tr>\n",
       "      <th>139</th>\n",
       "      <td>CA</td>\n",
       "      <td>21.0</td>\n",
       "      <td>10906.0</td>\n",
       "      <td>1285970.0</td>\n",
       "    </tr>\n",
       "    <tr>\n",
       "      <th>138</th>\n",
       "      <td>CA</td>\n",
       "      <td>22.0</td>\n",
       "      <td>9589.0</td>\n",
       "      <td>1360408.0</td>\n",
       "    </tr>\n",
       "    <tr>\n",
       "      <th>137</th>\n",
       "      <td>CA</td>\n",
       "      <td>23.0</td>\n",
       "      <td>7862.0</td>\n",
       "      <td>1095208.0</td>\n",
       "    </tr>\n",
       "    <tr>\n",
       "      <th>136</th>\n",
       "      <td>CA</td>\n",
       "      <td>24.0</td>\n",
       "      <td>6664.0</td>\n",
       "      <td>701037.0</td>\n",
       "    </tr>\n",
       "    <tr>\n",
       "      <th>135</th>\n",
       "      <td>CA</td>\n",
       "      <td>25.0</td>\n",
       "      <td>5648.0</td>\n",
       "      <td>617142.0</td>\n",
       "    </tr>\n",
       "    <tr>\n",
       "      <th>134</th>\n",
       "      <td>CA</td>\n",
       "      <td>26.0</td>\n",
       "      <td>6145.0</td>\n",
       "      <td>684641.0</td>\n",
       "    </tr>\n",
       "    <tr>\n",
       "      <th>133</th>\n",
       "      <td>CA</td>\n",
       "      <td>27.0</td>\n",
       "      <td>6051.0</td>\n",
       "      <td>678459.0</td>\n",
       "    </tr>\n",
       "    <tr>\n",
       "      <th>132</th>\n",
       "      <td>CA</td>\n",
       "      <td>28.0</td>\n",
       "      <td>7012.0</td>\n",
       "      <td>446024.0</td>\n",
       "    </tr>\n",
       "    <tr>\n",
       "      <th>131</th>\n",
       "      <td>CA</td>\n",
       "      <td>29.0</td>\n",
       "      <td>9318.0</td>\n",
       "      <td>364587.0</td>\n",
       "    </tr>\n",
       "    <tr>\n",
       "      <th>130</th>\n",
       "      <td>CA</td>\n",
       "      <td>30.0</td>\n",
       "      <td>11974.0</td>\n",
       "      <td>264154.0</td>\n",
       "    </tr>\n",
       "    <tr>\n",
       "      <th>129</th>\n",
       "      <td>CA</td>\n",
       "      <td>31.0</td>\n",
       "      <td>15495.0</td>\n",
       "      <td>252204.0</td>\n",
       "    </tr>\n",
       "    <tr>\n",
       "      <th>128</th>\n",
       "      <td>CA</td>\n",
       "      <td>32.0</td>\n",
       "      <td>4651.0</td>\n",
       "      <td>124988.0</td>\n",
       "    </tr>\n",
       "  </tbody>\n",
       "</table>\n",
       "</div>"
      ],
      "text/plain": [
       "    State  Week no.  Total new Covid Cases  Total vac per week\n",
       "159    CA       1.0               271680.0               110.0\n",
       "158    CA       2.0               279419.0               419.0\n",
       "157    CA       3.0               261470.0               367.0\n",
       "156    CA       4.0               287110.0             78445.0\n",
       "155    CA       5.0               264706.0            183248.0\n",
       "154    CA       6.0               179199.0            123202.0\n",
       "153    CA       7.0               128861.0            208842.0\n",
       "152    CA       8.0                88701.0            264374.0\n",
       "151    CA       9.0                59763.0            504276.0\n",
       "150    CA      10.0                38884.0            654633.0\n",
       "149    CA      11.0                28131.0            654690.0\n",
       "148    CA      12.0                22230.0            725766.0\n",
       "147    CA      13.0                19162.0            482035.0\n",
       "146    CA      14.0                16608.0           1194981.0\n",
       "145    CA      15.0                15332.0           1023583.0\n",
       "144    CA      16.0                15470.0            908414.0\n",
       "143    CA      17.0                15475.0           1600595.0\n",
       "142    CA      18.0                15495.0           1469666.0\n",
       "141    CA      19.0                13909.0           1302315.0\n",
       "140    CA      20.0                12078.0           1298827.0\n",
       "139    CA      21.0                10906.0           1285970.0\n",
       "138    CA      22.0                 9589.0           1360408.0\n",
       "137    CA      23.0                 7862.0           1095208.0\n",
       "136    CA      24.0                 6664.0            701037.0\n",
       "135    CA      25.0                 5648.0            617142.0\n",
       "134    CA      26.0                 6145.0            684641.0\n",
       "133    CA      27.0                 6051.0            678459.0\n",
       "132    CA      28.0                 7012.0            446024.0\n",
       "131    CA      29.0                 9318.0            364587.0\n",
       "130    CA      30.0                11974.0            264154.0\n",
       "129    CA      31.0                15495.0            252204.0\n",
       "128    CA      32.0                 4651.0            124988.0"
      ]
     },
     "execution_count": 16,
     "metadata": {},
     "output_type": "execute_result"
    }
   ],
   "source": [
    "lookup_state = input('Which State? ')\n",
    "state_df = merge_value_reset_df.loc[(merge_df['State'] == lookup_state)]\n",
    "state_df.sort_values(by=['Week no.'])"
   ]
  },
  {
   "cell_type": "code",
   "execution_count": 17,
   "metadata": {},
   "outputs": [
    {
     "name": "stdout",
     "output_type": "stream",
     "text": [
      "This information is based from 12/13/2020 - 7/22/2021\n"
     ]
    },
    {
     "data": {
      "image/png": "[encoded data removed]",
      "text/plain": [
       "<Figure size 432x288 with 1 Axes>"
      ]
     },
     "metadata": {
      "needs_background": "light"
     },
     "output_type": "display_data"
    }
   ],
   "source": [
    "print('This information is based from 12/13/2020 - 7/22/2021')\n",
    "state_df.plot(x='Week no.', y=['Total new Covid Cases', 'Total vac per week'], xlabel='Reporting Week', ylabel='Count of Persons', kind='line', title=lookup_state)\n",
    "plt.show()"
   ]
  },
  {
   "cell_type": "code",
   "execution_count": 18,
   "metadata": {
    "scrolled": true
   },
   "outputs": [
    {
     "name": "stdout",
     "output_type": "stream",
     "text": [
      "This information is based from 12/13/2020 - 7/22/2021\n"
     ]
    },
    {
     "data": {
      "image/png": "[encoded data removed]",
      "text/plain": [
       "<Figure size 432x288 with 1 Axes>"
      ]
     },
     "metadata": {
      "needs_background": "light"
     },
     "output_type": "display_data"
    }
   ],
   "source": [
    "print('This information is based from 12/13/2020 - 7/22/2021')\n",
    "merge_value_reset_df.plot(x='Week no.', y=['Total new Covid Cases'], xlabel='Reporting Week', ylabel='Count of Persons', kind='scatter', title='US')\n",
    "plt.show()"
   ]
  },
  {
   "cell_type": "code",
   "execution_count": 19,
   "metadata": {
    "scrolled": false
   },
   "outputs": [
    {
     "name": "stdout",
     "output_type": "stream",
     "text": [
      "This information is based from 12/13/2020 - 7/22/2021\n"
     ]
    },
    {
     "data": {
      "image/png": "[encoded data removed]",
      "text/plain": [
       "<Figure size 432x288 with 1 Axes>"
      ]
     },
     "metadata": {
      "needs_background": "light"
     },
     "output_type": "display_data"
    }
   ],
   "source": [
    "print('This information is based from 12/13/2020 - 7/22/2021')\n",
    "merge_value_reset_df.plot(x='Week no.', y=['Total vac per week'], xlabel='Reporting Week', ylabel='Count of Persons', kind='scatter', title='US')\n",
    "plt.show()"
   ]
  },
  {
   "cell_type": "code",
   "execution_count": 20,
   "metadata": {
    "scrolled": true
   },
   "outputs": [
    {
     "name": "stdout",
     "output_type": "stream",
     "text": [
      "What State?CA\n",
      "Rates up to which week?5\n",
      "39512223\n"
     ]
    }
   ],
   "source": [
    "population_lookup_state = input('What State?')\n",
    "week_number = input('Rates up to which week?')\n",
    "\n",
    "population_df = total_population_df.loc[(total_population_df['Code'] == population_lookup_state)]\n",
    "pop = population_df['2019 Population'].values[0]\n",
    "\n",
    "print(pop)"
   ]
  },
  {
   "cell_type": "code",
   "execution_count": 45,
   "metadata": {
    "scrolled": true
   },
   "outputs": [
    {
     "name": "stdout",
     "output_type": "stream",
     "text": [
      "0.0002783948653053512\n",
      "0.0013388262158775526\n",
      "0.0022676527210326787\n",
      "0.2008011546199261\n",
      "0.6645766298696988\n"
     ]
    },
    {
     "name": "stderr",
     "output_type": "stream",
     "text": [
      "C:\\Users\\matt\\.conda\\envs\\PythonData\\lib\\site-packages\\ipykernel_launcher.py:11: DeprecationWarning: `np.float` is a deprecated alias for the builtin `float`. To silence this warning, use `float` by itself. Doing this will not modify any behavior and is safe. If you specifically wanted the numpy scalar type, use `np.float64` here.\n",
      "Deprecated in NumPy 1.20; for more details and guidance: https://numpy.org/devdocs/release/1.20.0-notes.html#deprecations\n",
      "  # This is added back by InteractiveShellApp.init_path()\n"
     ]
    },
    {
     "data": {
      "text/plain": [
       "State                     object\n",
       "Week no.                 float64\n",
       "Total new Covid Cases    float64\n",
       "Total vac per week       float64\n",
       "Running Total              int64\n",
       "Percentage Vaccinated      int64\n",
       "dtype: object"
      ]
     },
     "execution_count": 45,
     "metadata": {},
     "output_type": "execute_result"
    }
   ],
   "source": [
    "pop_state_df = merge_value_reset_df.loc[(merge_df['State'] == lookup_state)] # & (merge_df['Week no.'] < pd.to_numeric(week_number) + 1)]\n",
    "pop_state_df.sort_values(by=['Week no.'])\n",
    "pop_state_df2 = pop_state_df.loc[(pop_state_df['Week no.'] <= pd.to_numeric(week_number))]\n",
    "pop_state_df2['Week no.'].astype(np.int64)\n",
    "pop_state_df2=pop_state_df2.sort_values(by=['Week no.'], ascending=True)\n",
    "\n",
    "\n",
    "pop_state_df2['Running Total']=0\n",
    "pop_state_df2['Running Total'].astype(np.int64)\n",
    "pop_state_df2['Percentage Vaccinated']=0\n",
    "pop_state_df2['Percentage Vaccinated'].astype(np.float)\n",
    "# pop_state_df2.astype({'Percentage Vaccinated':'float'})\n",
    "total = 0\n",
    "for i, row in pop_state_df2.iterrows():\n",
    "    week_val = pop_state_df2.at[i, 'Total vac per week']\n",
    "    pd.to_numeric(week_val)\n",
    "    total = total + week_val\n",
    "    pop_state_df2.at[i, 'Running Total'] = total\n",
    "    percentage = (total / pop) * 100\n",
    "    print(percentage)\n",
    "    pop_state_df2.at[i,'Percentage Vaccinated'] = percentage\n",
    "pop_state_df2.dtypes"
   ]
  },
  {
   "cell_type": "code",
   "execution_count": 42,
   "metadata": {},
   "outputs": [
    {
     "data": {
      "text/plain": [
       "<AxesSubplot:title={'center':'US'}, xlabel='Reporting Week', ylabel='Percentage Vaccinated'>"
      ]
     },
     "execution_count": 42,
     "metadata": {},
     "output_type": "execute_result"
    },
    {
     "data": {
      "image/png": "[encoded data removed]",
      "text/plain": [
       "<Figure size 432x288 with 1 Axes>"
      ]
     },
     "metadata": {
      "needs_background": "light"
     },
     "output_type": "display_data"
    }
   ],
   "source": [
    "pop_state_df2.plot(x='Week no.', y=['Percentage Vaccinated'], xlabel='Reporting Week', ylabel='Percentage Vaccinated', kind='bar', title='US')"
   ]
  },
  {
   "cell_type": "code",
   "execution_count": null,
   "metadata": {},
   "outputs": [],
   "source": []
  }
 ],
 "metadata": {
  "kernelspec": {
   "display_name": "Python 3",
   "language": "python",
   "name": "python3"
  },
  "language_info": {
   "codemirror_mode": {
    "name": "ipython",
    "version": 3
   },
   "file_extension": ".py",
   "mimetype": "text/x-python",
   "name": "python",
   "nbconvert_exporter": "python",
   "pygments_lexer": "ipython3",
   "version": "3.7.10"
  }
 },
 "nbformat": 4,
 "nbformat_minor": 2
}
